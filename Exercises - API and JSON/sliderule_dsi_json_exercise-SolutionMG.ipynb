{
 "cells": [
  {
   "cell_type": "markdown",
   "metadata": {},
   "source": [
    "# JSON examples and exercise\n",
    "****\n",
    "+ get familiar with packages for dealing with JSON\n",
    "+ study examples with JSON strings and files \n",
    "+ work on exercise to be completed and submitted \n",
    "****\n",
    "+ reference: http://pandas.pydata.org/pandas-docs/stable/io.html#io-json-reader\n",
    "+ data source: http://jsonstudio.com/resources/\n",
    "****"
   ]
  },
  {
   "cell_type": "code",
   "execution_count": 35,
   "metadata": {},
   "outputs": [],
   "source": [
    "import pandas as pd"
   ]
  },
  {
   "cell_type": "markdown",
   "metadata": {},
   "source": [
    "## imports for Python, Pandas"
   ]
  },
  {
   "cell_type": "code",
   "execution_count": 36,
   "metadata": {},
   "outputs": [],
   "source": [
    "import json\n",
    "from pandas.io.json import json_normalize"
   ]
  },
  {
   "cell_type": "markdown",
   "metadata": {},
   "source": [
    "****\n",
    "## JSON exercise\n",
    "\n",
    "Using data in file 'data/world_bank_projects.json' and the techniques demonstrated above,\n",
    "1. Find the 10 countries with most projects\n",
    "2. Find the top 10 major project themes (using column 'mjtheme_namecode')\n",
    "3. In 2. above you will notice that some entries have only the code and the name is missing. Create a dataframe with the missing names filled in."
   ]
  },
  {
   "cell_type": "markdown",
   "metadata": {},
   "source": [
    "### Solution to part 1: Find 10 Countries with Most Projects"
   ]
  },
  {
   "cell_type": "code",
   "execution_count": 37,
   "metadata": {},
   "outputs": [],
   "source": [
    "# read json as string\n",
    "Global_Projects_json_str = json.load((open('data/world_bank_projects.json')))"
   ]
  },
  {
   "cell_type": "code",
   "execution_count": 38,
   "metadata": {},
   "outputs": [],
   "source": [
    "# examine normalize to further populate tables created from nested element\n",
    "json_normalizedTable = json_normalize(Global_Projects_json_str)"
   ]
  },
  {
   "cell_type": "code",
   "execution_count": 39,
   "metadata": {},
   "outputs": [
    {
     "name": "stdout",
     "output_type": "stream",
     "text": [
      "(500, 55)\n",
      "Index(['_id.$oid', 'approvalfy', 'board_approval_month', 'boardapprovaldate',\n",
      "       'borrower', 'closingdate', 'country_namecode', 'countrycode',\n",
      "       'countryname', 'countryshortname', 'docty', 'envassesmentcategorycode',\n",
      "       'grantamt', 'ibrdcommamt', 'id', 'idacommamt', 'impagency',\n",
      "       'lendinginstr', 'lendinginstrtype', 'lendprojectcost',\n",
      "       'majorsector_percent', 'mjsector_namecode', 'mjtheme',\n",
      "       'mjtheme_namecode', 'mjthemecode', 'prodline', 'prodlinetext',\n",
      "       'productlinetype', 'project_abstract.cdata', 'project_name',\n",
      "       'projectdocs', 'projectfinancialtype', 'projectstatusdisplay',\n",
      "       'regionname', 'sector', 'sector1.Name', 'sector1.Percent',\n",
      "       'sector2.Name', 'sector2.Percent', 'sector3.Name', 'sector3.Percent',\n",
      "       'sector4.Name', 'sector4.Percent', 'sector_namecode', 'sectorcode',\n",
      "       'source', 'status', 'supplementprojectflg', 'theme1.Name',\n",
      "       'theme1.Percent', 'theme_namecode', 'themecode', 'totalamt',\n",
      "       'totalcommamt', 'url'],\n",
      "      dtype='object')\n"
     ]
    }
   ],
   "source": [
    "# examine column names\n",
    "print(json_normalizedTable.shape)\n",
    "print(json_normalizedTable.columns)"
   ]
  },
  {
   "cell_type": "code",
   "execution_count": 40,
   "metadata": {},
   "outputs": [],
   "source": [
    "# load json file as Pandas dataframe\n",
    "Global_Projects_json_df = pd.read_json('data/world_bank_projects.json')"
   ]
  },
  {
   "cell_type": "code",
   "execution_count": 41,
   "metadata": {},
   "outputs": [
    {
     "data": {
      "text/plain": [
       "(500, 50)"
      ]
     },
     "execution_count": 41,
     "metadata": {},
     "output_type": "execute_result"
    }
   ],
   "source": [
    "# examine table size\n",
    "Global_Projects_json_df.shape"
   ]
  },
  {
   "cell_type": "code",
   "execution_count": 42,
   "metadata": {},
   "outputs": [
    {
     "name": "stdout",
     "output_type": "stream",
     "text": [
      "Index(['_id', 'approvalfy', 'board_approval_month', 'boardapprovaldate',\n",
      "       'borrower', 'closingdate', 'country_namecode', 'countrycode',\n",
      "       'countryname', 'countryshortname', 'docty', 'envassesmentcategorycode',\n",
      "       'grantamt', 'ibrdcommamt', 'id', 'idacommamt', 'impagency',\n",
      "       'lendinginstr', 'lendinginstrtype', 'lendprojectcost',\n",
      "       'majorsector_percent', 'mjsector_namecode', 'mjtheme',\n",
      "       'mjtheme_namecode', 'mjthemecode', 'prodline', 'prodlinetext',\n",
      "       'productlinetype', 'project_abstract', 'project_name', 'projectdocs',\n",
      "       'projectfinancialtype', 'projectstatusdisplay', 'regionname', 'sector',\n",
      "       'sector1', 'sector2', 'sector3', 'sector4', 'sector_namecode',\n",
      "       'sectorcode', 'source', 'status', 'supplementprojectflg', 'theme1',\n",
      "       'theme_namecode', 'themecode', 'totalamt', 'totalcommamt', 'url'],\n",
      "      dtype='object')\n"
     ]
    }
   ],
   "source": [
    "# examine 50 column names\n",
    "print(Global_Projects_json_df.columns)"
   ]
  },
  {
   "cell_type": "code",
   "execution_count": 43,
   "metadata": {},
   "outputs": [
    {
     "name": "stdout",
     "output_type": "stream",
     "text": [
      "Index(['_id.$oid', 'project_abstract.cdata', 'sector1.Name', 'sector1.Percent',\n",
      "       'sector2.Name', 'sector2.Percent', 'sector3.Name', 'sector3.Percent',\n",
      "       'sector4.Name', 'sector4.Percent', 'theme1.Name', 'theme1.Percent'],\n",
      "      dtype='object')\n"
     ]
    }
   ],
   "source": [
    "#Difference in column names between json normalize and Data Frame\n",
    "print(pd.Index(json_normalize(Global_Projects_json_str).columns).difference(pd.Index(Global_Projects_json_df.columns)))"
   ]
  },
  {
   "cell_type": "code",
   "execution_count": 44,
   "metadata": {},
   "outputs": [],
   "source": [
    "# groupby country and count number of occurances based on 'project name' column\n",
    "# sort the list in decending order\n",
    "# save list of top ten countries with most number of projects\n",
    "Projects_TopTen_Countries = Global_Projects_json_df.groupby('countryname')['project_name']\\\n",
    "                    .count().sort_values(ascending=False).head(10)"
   ]
  },
  {
   "cell_type": "markdown",
   "metadata": {},
   "source": [
    "### Top 10 countries with most projects"
   ]
  },
  {
   "cell_type": "code",
   "execution_count": 45,
   "metadata": {},
   "outputs": [
    {
     "name": "stdout",
     "output_type": "stream",
     "text": [
      "Country Name\n",
      "People's Republic of China         19\n",
      "Republic of Indonesia              19\n",
      "Socialist Republic of Vietnam      17\n",
      "Republic of India                  16\n",
      "Republic of Yemen                  13\n",
      "Nepal                              12\n",
      "People's Republic of Bangladesh    12\n",
      "Kingdom of Morocco                 12\n",
      "Africa                             11\n",
      "Republic of Mozambique             11\n",
      "Name: Project Count, dtype: int64\n"
     ]
    }
   ],
   "source": [
    "Projects_TopTen_Countries.rename('Project Count', inplace=True)\n",
    "Projects_TopTen_Countries.rename_axis('Country Name', inplace=True)\n",
    "print(Projects_TopTen_Countries)"
   ]
  },
  {
   "cell_type": "markdown",
   "metadata": {},
   "source": [
    "### Solution to part 2: Find the top 10 major project themes (using column 'mjtheme_namecode')"
   ]
  },
  {
   "cell_type": "code",
   "execution_count": 46,
   "metadata": {},
   "outputs": [
    {
     "name": "stdout",
     "output_type": "stream",
     "text": [
      "   code                                          name\n",
      "0     8                             Human development\n",
      "1    11                                              \n",
      "2     1                           Economic management\n",
      "3     6         Social protection and risk management\n",
      "4     5                         Trade and integration\n",
      "5     2                      Public sector governance\n",
      "6    11  Environment and natural resources management\n",
      "7     6         Social protection and risk management\n",
      "8     7                   Social dev/gender/inclusion\n",
      "9     7                   Social dev/gender/inclusion\n",
      "10    5                         Trade and integration\n",
      "11    4      Financial and private sector development\n",
      "12    6         Social protection and risk management\n",
      "13    6                                              \n",
      "14    2                      Public sector governance\n",
      "15    4      Financial and private sector development\n",
      "16   11  Environment and natural resources management\n",
      "17    8                                              \n",
      "18   10                             Rural development\n",
      "19    7                                              \n"
     ]
    }
   ],
   "source": [
    "# print(Global_Projects_json_df['mjtheme_namecode'])\n",
    "# Extract project theme from major project list in column 'mjtheme_namecode'\n",
    "# to create a table 'code' and 'name' of project theme\n",
    "projList = []\n",
    "for c_proj in Global_Projects_json_df['mjtheme_namecode']:\n",
    "    for dict_item in c_proj:\n",
    "        projList.append(dict_item.values())     #list(dict_item.values()))\n",
    "MajorProjects = pd.DataFrame(projList, columns=['code','name']).astype(str)\n",
    "print(MajorProjects.head(20)) "
   ]
  },
  {
   "cell_type": "code",
   "execution_count": 47,
   "metadata": {},
   "outputs": [
    {
     "name": "stdout",
     "output_type": "stream",
     "text": [
      "     0                                             1\n",
      "0    1                           Economic management\n",
      "1   11  Environment and natural resources management\n",
      "2    4      Financial and private sector development\n",
      "3    8                             Human development\n",
      "4    2                      Public sector governance\n",
      "5    3                                   Rule of law\n",
      "6   10                             Rural development\n",
      "7    7                   Social dev/gender/inclusion\n",
      "8    6         Social protection and risk management\n",
      "9    5                         Trade and integration\n",
      "10   9                             Urban development\n"
     ]
    }
   ],
   "source": [
    "# no missing values in 'code' column, thus, groupby 'code' and get list of top ten project theme codes\n",
    "CodeCountRank = MajorProjects.groupby('code')['name'].count().sort_values(ascending=False)\n",
    "CodeNameLevels = MajorProjects.groupby('name')['code'].value_counts()\n",
    "\n",
    "LevelRowIndex = 11  # start at index 11 to remove blank names\n",
    "CodeNameIndexLevel = list(CodeNameLevels.index.get_level_values(0)[LevelRowIndex:])\n",
    "CodeIndexLevel = list(CodeNameLevels.index.get_level_values(1)[LevelRowIndex:])     \n",
    "CodeNameLink = pd.DataFrame([CodeIndexLevel, CodeNameIndexLevel]).transpose()\n",
    "print(CodeNameLink)"
   ]
  },
  {
   "cell_type": "code",
   "execution_count": 48,
   "metadata": {},
   "outputs": [],
   "source": [
    "# Rank top tem projects\n",
    "mjthemeTopTenList = []\n",
    "for c_idx in CodeCountRank.index:\n",
    "    boolArray = (CodeNameLink[0] == c_idx).astype(int)\n",
    "    i=0\n",
    "    for x in boolArray:\n",
    "        if x == 1:\n",
    "            break\n",
    "        else:\n",
    "            i =i+1\n",
    "    matchCodeIndex = CodeNameLink[1][i]\n",
    "    mjthemeTopTenList.append([CodeCountRank[c_idx], c_idx, CodeNameLink[1][i]]) "
   ]
  },
  {
   "cell_type": "markdown",
   "metadata": {},
   "source": [
    "### Top 10 Major Project Themes"
   ]
  },
  {
   "cell_type": "code",
   "execution_count": 49,
   "metadata": {},
   "outputs": [
    {
     "name": "stdout",
     "output_type": "stream",
     "text": [
      "    proj count code                                          name\n",
      "0          250   11  Environment and natural resources management\n",
      "1          216   10                             Rural development\n",
      "2          210    8                             Human development\n",
      "3          199    2                      Public sector governance\n",
      "4          168    6         Social protection and risk management\n",
      "5          146    4      Financial and private sector development\n",
      "6          130    7                   Social dev/gender/inclusion\n",
      "7           77    5                         Trade and integration\n",
      "8           50    9                             Urban development\n",
      "9           38    1                           Economic management\n",
      "10          15    3                                   Rule of law\n"
     ]
    }
   ],
   "source": [
    "mjTopProjects = pd.DataFrame(mjthemeTopTenList, columns = ('proj count','code', 'name'))\n",
    "print(mjTopProjects)"
   ]
  },
  {
   "cell_type": "markdown",
   "metadata": {},
   "source": [
    "### Solution to part 3: Create a DataFrame with the Missing Names Filled."
   ]
  },
  {
   "cell_type": "code",
   "execution_count": 50,
   "metadata": {},
   "outputs": [
    {
     "name": "stdout",
     "output_type": "stream",
     "text": [
      "   code                                          name\n",
      "0     8                             Human development\n",
      "1    11                                              \n",
      "2     1                           Economic management\n",
      "3     6         Social protection and risk management\n",
      "4     5                         Trade and integration\n",
      "5     2                      Public sector governance\n",
      "6    11  Environment and natural resources management\n",
      "7     6         Social protection and risk management\n",
      "8     7                   Social dev/gender/inclusion\n",
      "9     7                   Social dev/gender/inclusion\n",
      "10    5                         Trade and integration\n",
      "11    4      Financial and private sector development\n",
      "12    6         Social protection and risk management\n",
      "13    6                                              \n",
      "14    2                      Public sector governance\n",
      "15    4      Financial and private sector development\n",
      "16   11  Environment and natural resources management\n",
      "17    8                                              \n",
      "18   10                             Rural development\n",
      "19    7                                              \n"
     ]
    }
   ],
   "source": [
    "print(MajorProjects.head(20)) "
   ]
  },
  {
   "cell_type": "code",
   "execution_count": 51,
   "metadata": {},
   "outputs": [
    {
     "name": "stdout",
     "output_type": "stream",
     "text": [
      "   code                                          name\n",
      "0     8                             Human development\n",
      "1    11  Environment and natural resources management\n",
      "2     1                           Economic management\n",
      "3     6         Social protection and risk management\n",
      "4     5                         Trade and integration\n",
      "5     2                      Public sector governance\n",
      "6    11  Environment and natural resources management\n",
      "7     6         Social protection and risk management\n",
      "8     7                   Social dev/gender/inclusion\n",
      "9     7                   Social dev/gender/inclusion\n",
      "10    5                         Trade and integration\n",
      "11    4      Financial and private sector development\n",
      "12    6         Social protection and risk management\n",
      "13    6         Social protection and risk management\n",
      "14    2                      Public sector governance\n",
      "15    4      Financial and private sector development\n",
      "16   11  Environment and natural resources management\n",
      "17    8                             Human development\n",
      "18   10                             Rural development\n",
      "19    7                   Social dev/gender/inclusion\n"
     ]
    }
   ],
   "source": [
    "for row in MajorProjects.values:\n",
    "    if row[1] == '':\n",
    "        row[1] = mjTopProjects['name'][mjTopProjects['code'] == row[0]].values[0]\n",
    "print(MajorProjects.head(20))"
   ]
  }
 ],
 "metadata": {
  "kernelspec": {
   "display_name": "Python 3",
   "language": "python",
   "name": "python3"
  },
  "language_info": {
   "codemirror_mode": {
    "name": "ipython",
    "version": 3
   },
   "file_extension": ".py",
   "mimetype": "text/x-python",
   "name": "python",
   "nbconvert_exporter": "python",
   "pygments_lexer": "ipython3",
   "version": "3.6.5"
  }
 },
 "nbformat": 4,
 "nbformat_minor": 1
}
