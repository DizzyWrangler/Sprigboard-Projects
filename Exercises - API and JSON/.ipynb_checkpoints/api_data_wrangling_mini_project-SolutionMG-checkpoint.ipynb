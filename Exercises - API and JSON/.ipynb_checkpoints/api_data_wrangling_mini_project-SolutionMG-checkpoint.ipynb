{
 "cells": [
  {
   "cell_type": "markdown",
   "metadata": {},
   "source": [
    "## These are your tasks for this mini project:\n",
    "\n",
    "1. Collect data from the Franfurt Stock Exchange, for the ticker AFX_X, for the whole year 2017 (keep in mind that the date format is YYYY-MM-DD).\n",
    "2. Convert the returned JSON object into a Python dictionary.\n",
    "3. Calculate what the highest and lowest opening prices were for the stock in this period.\n",
    "4. What was the largest change in any one day (based on High and Low price)?\n",
    "5. What was the largest change between any two days (based on Closing Price)?\n",
    "6. What was the average daily trading volume during this year?\n",
    "7. (Optional) What was the median trading volume during this year. (Note: you may need to implement your own function for calculating the median.)"
   ]
  },
  {
   "cell_type": "markdown",
   "metadata": {
    "collapsed": true
   },
   "source": [
    "### 1. Collect data from the Franfurt Stock Exchange, for the ticker AFX_X, for the whole year 2017 (keep in mind that the date format is YYYY-MM-DD)."
   ]
  },
  {
   "cell_type": "code",
   "execution_count": 52,
   "metadata": {},
   "outputs": [],
   "source": [
    "# Compose the quandl url path with date (start - end date) and order (ascending) parameters for daily data\n",
    "url = \"https://www.quandl.com/api/v3/datasets/FSE/AFX_X.json?start_date=2017-01-01&end_date=2017-12-31\\\n",
    "&order=asc&collapse=daily&api_key=\" + API_KEY\n",
    "req = requests.get(url)"
   ]
  },
  {
   "cell_type": "markdown",
   "metadata": {},
   "source": [
    "### 2. Convert the returned JSON object into a Python dictionary."
   ]
  },
  {
   "cell_type": "code",
   "execution_count": 53,
   "metadata": {},
   "outputs": [],
   "source": [
    "# Store the requested json data query in dictionary variable\n",
    "json_AFX_X_2017Data = req.json()"
   ]
  },
  {
   "cell_type": "code",
   "execution_count": 54,
   "metadata": {},
   "outputs": [],
   "source": [
    "# initialize defaultdict with ksit type for 'column_names' and 'data'\n",
    "column_name_list = defaultdict(list)\n",
    "data_list = defaultdict(list)"
   ]
  },
  {
   "cell_type": "code",
   "execution_count": 55,
   "metadata": {},
   "outputs": [],
   "source": [
    "# Iterate throught top level of the dictionary items\n",
    "for key, value in json_AFX_X_2017Data.items():\n",
    "    # Store column_names from nested level - index 0 removes nested list for easier index referencing\n",
    "    column_name_list = [value[k] for k, v in value.items() if k == 'column_names'][0]\n",
    "    # Store 'data' (trade data) from nested level\n",
    "    data_list = [subData for k, v in value.items() if k == 'data' for subData in value[k]]"
   ]
  },
  {
   "cell_type": "code",
   "execution_count": 56,
   "metadata": {},
   "outputs": [
    {
     "name": "stdout",
     "output_type": "stream",
     "text": [
      "['Date', 'Open', 'High', 'Low', 'Close', 'Change', 'Traded Volume', 'Turnover', 'Last Price of the Day', 'Daily Traded Units', 'Daily Turnover']\n"
     ]
    }
   ],
   "source": [
    "# Disply the column names to refernce data column organization \n",
    "print(column_name_list)"
   ]
  },
  {
   "cell_type": "code",
   "execution_count": 57,
   "metadata": {},
   "outputs": [
    {
     "name": "stdout",
     "output_type": "stream",
     "text": [
      " ['2017-01-02', 34.99, 35.94, 34.99, 35.8, None, 44700.0, 1590561.0, None, None, None] \n",
      " ['2017-12-29', 51.76, 51.94, 51.45, 51.76, None, 34640.0, 1792304.0, None, None, None]\n"
     ]
    }
   ],
   "source": [
    "# Display first and last data to check date-range ( Friday Dec 29,2017 was last of 255 trade days in 2017 )\n",
    "print('', data_list[0], '\\n', data_list[-1])"
   ]
  },
  {
   "cell_type": "code",
   "execution_count": 58,
   "metadata": {},
   "outputs": [],
   "source": [
    "# Generate iteration range using number of rows of trade data for subsequent calls\n",
    "dataLen = range(0,len(data_list))"
   ]
  },
  {
   "cell_type": "code",
   "execution_count": 59,
   "metadata": {},
   "outputs": [],
   "source": [
    "# Extract dates from 'data' using list comprehension\n",
    "Dates = [data_list[i][column_name_list.index('Date')] for i in dataLen]"
   ]
  },
  {
   "cell_type": "markdown",
   "metadata": {},
   "source": [
    "### 3. Calculate what the highest and lowest opening prices were for the stock in this period."
   ]
  },
  {
   "cell_type": "code",
   "execution_count": 60,
   "metadata": {},
   "outputs": [],
   "source": [
    "# Get index for Open price column  \n",
    "OpenCol_Index = column_name_list.index('Open')"
   ]
  },
  {
   "cell_type": "code",
   "execution_count": 68,
   "metadata": {},
   "outputs": [
    {
     "name": "stdout",
     "output_type": "stream",
     "text": [
      "Note: Average price of $43.34  was calculated to replace 'None' values.\n"
     ]
    }
   ],
   "source": [
    "# Some values in Open price data are stored as None type and need to be accounted for\n",
    "# For this analysis max or min values are of interest - average price would be unlikely equal to max or min\n",
    "# Remove 'None' values and calculate average price\n",
    "OpenPrice_average = np.average([data_list[i][OpenCol_Index] \\\n",
    "                                for i in dataLen if data_list[i][OpenCol_Index] is not None ])\n",
    "print('Note: Average price of $%3.2f  was calculated to replace \\'None\\' values.' % OpenPrice_average)"
   ]
  },
  {
   "cell_type": "code",
   "execution_count": 69,
   "metadata": {
    "scrolled": true
   },
   "outputs": [
    {
     "name": "stdout",
     "output_type": "stream",
     "text": [
      "\n",
      "Highest Open Price in 2017 was   $53.11    on  2017-12-14\n",
      "Lowest Open Price in 2017 was   $34.00    on  2017-01-24\n"
     ]
    }
   ],
   "source": [
    "# Constructing the Open price list for min and max query use compute average price to replace 'None' values\n",
    "OpenPrice = [data_list[i][OpenCol_Index] \\\n",
    "             if data_list[i][OpenCol_Index] is not None else OpenPrice_average for i in dataLen]\n",
    "print('\\nHighest Open Price in 2017 was   $%3.2f  ' % np.max(OpenPrice), ' on ', \\\n",
    "      Dates[OpenPrice.index(np.max(OpenPrice))])\n",
    "print('Lowest Open Price in 2017 was   $%3.2f  ' % np.min(OpenPrice), ' on ', \\\n",
    "      Dates[OpenPrice.index(np.min(OpenPrice))])"
   ]
  },
  {
   "cell_type": "markdown",
   "metadata": {},
   "source": [
    "### 4. What was the largest change in any one day (based on High and Low price)?"
   ]
  },
  {
   "cell_type": "code",
   "execution_count": 70,
   "metadata": {},
   "outputs": [
    {
     "name": "stdout",
     "output_type": "stream",
     "text": [
      "\n",
      "Largest Daily High-Low Price Change in 2017 was   $2.81    on  2017-05-11\n"
     ]
    }
   ],
   "source": [
    "# Store column index for High and Low price\n",
    "HighCol_Index = column_name_list.index('High')\n",
    "LowCol_Index = column_name_list.index('Low')\n",
    "# Use list comprehension and calculate max daily price change\n",
    "daily_MaxChange =  np.max([(data_list[i][HighCol_Index] - data_list[i][LowCol_Index]) for i in dataLen])\n",
    "print('\\nLargest Daily High-Low Price Change in 2017 was   $%3.2f  ' % daily_MaxChange, \\\n",
    "      ' on ', Dates[daily_HighLowChange.index(daily_MaxChange)])"
   ]
  },
  {
   "cell_type": "markdown",
   "metadata": {},
   "source": [
    "### 5. What was the largest change between any two days (based on Closing Price)?"
   ]
  },
  {
   "cell_type": "code",
   "execution_count": 72,
   "metadata": {},
   "outputs": [
    {
     "name": "stdout",
     "output_type": "stream",
     "text": [
      "Largest Close Price Change in 2017 was   $19.03\n",
      "Based on:\n",
      "Highest Close price of  $53.09   on  2017-12-13\n",
      "Lowest Close price of   $34.06   on  2017-01-23\n"
     ]
    }
   ],
   "source": [
    "# Identify min and max close prices in 2017 to calculate largest change (between any two days)\n",
    "CloseCol_Index = column_name_list.index('Close')\n",
    "ClosePrice = [data_list[i][CloseCol_Index] for i in dataLen]\n",
    "max_ClosePrice = np.max(ClosePrice)\n",
    "min_ClosePrice = np.min(ClosePrice)\n",
    "print('Largest Close Price Change in 2017 was   $%3.2f' % (max_ClosePrice - min_ClosePrice))\n",
    "print('Based on:\\nHighest Close price of  $%3.2f' % max_ClosePrice,\\\n",
    "      '  on ', Dates[ClosePrice.index(max_ClosePrice)])\n",
    "print('Lowest Close price of   $%3.2f ' % min_ClosePrice, ' on ', Dates[ClosePrice.index(min_ClosePrice)])"
   ]
  },
  {
   "cell_type": "markdown",
   "metadata": {},
   "source": [
    "### 6. What was the average daily trading volume during this year?"
   ]
  },
  {
   "cell_type": "code",
   "execution_count": 73,
   "metadata": {},
   "outputs": [
    {
     "name": "stdout",
     "output_type": "stream",
     "text": [
      "\n",
      "Average Daily Trading Volume during 2017 was:   89124.3373\n",
      "\n"
     ]
    }
   ],
   "source": [
    "TradeVolume_list = [data_list[i][column_name_list.index('Traded Volume')] for i in dataLen]\n",
    "print('\\nAverage Daily Trading Volume during 2017 was:   %10.4f\\n' % np.average(TradeVolume_list))"
   ]
  },
  {
   "cell_type": "markdown",
   "metadata": {},
   "source": [
    "### 7. (Optional) What was the median trading volume during this year. (Note: you may need to implement your own function for calculating the median.)"
   ]
  },
  {
   "cell_type": "code",
   "execution_count": 74,
   "metadata": {},
   "outputs": [
    {
     "name": "stdout",
     "output_type": "stream",
     "text": [
      "Median Trading Volum during 2017 was   76286 Shares  on  2017-11-13\n"
     ]
    }
   ],
   "source": [
    "# Store index of the value in the middle of the list \n",
    "middleIndex = int(dataLen[-1]/2)\n",
    "# Extract the value from the index at the middle of the sorted list\n",
    "TradeVolume_median = np.sort(TradeVolume_list)[middleIndex]\n",
    "# Display the median tading volum on corresponding date\n",
    "print('Median Trading Volum during 2017 was%8d Shares ' % TradeVolume_median,  'on ', \\\n",
    "     Dates[TradeVolume_list.index(TradeVolume_median)])"
   ]
  },
  {
   "cell_type": "code",
   "execution_count": null,
   "metadata": {},
   "outputs": [],
   "source": []
  }
 ],
 "metadata": {
  "kernelspec": {
   "display_name": "Python 3",
   "language": "python",
   "name": "python3"
  },
  "language_info": {
   "codemirror_mode": {
    "name": "ipython",
    "version": 3
   },
   "file_extension": ".py",
   "mimetype": "text/x-python",
   "name": "python",
   "nbconvert_exporter": "python",
   "pygments_lexer": "ipython3",
   "version": "3.7.3"
  }
 },
 "nbformat": 4,
 "nbformat_minor": 2
}
