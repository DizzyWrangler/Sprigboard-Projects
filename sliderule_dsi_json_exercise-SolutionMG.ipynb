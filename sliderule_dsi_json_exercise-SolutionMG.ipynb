{
 "cells": [
  {
   "cell_type": "markdown",
   "metadata": {},
   "source": [
    "# JSON examples and exercise\n",
    "****\n",
    "+ get familiar with packages for dealing with JSON\n",
    "+ study examples with JSON strings and files \n",
    "+ work on exercise to be completed and submitted \n",
    "****\n",
    "+ reference: http://pandas.pydata.org/pandas-docs/stable/io.html#io-json-reader\n",
    "+ data source: http://jsonstudio.com/resources/\n",
    "****"
   ]
  },
  {
   "cell_type": "code",
   "execution_count": 34,
   "metadata": {},
   "outputs": [],
   "source": [
    "import pandas as pd"
   ]
  },
  {
   "cell_type": "markdown",
   "metadata": {},
   "source": [
    "## imports for Python, Pandas"
   ]
  },
  {
   "cell_type": "code",
   "execution_count": 35,
   "metadata": {},
   "outputs": [],
   "source": [
    "import json\n",
    "from pandas.io.json import json_normalize"
   ]
  },
  {
   "cell_type": "markdown",
   "metadata": {},
   "source": [
    "****\n",
    "## JSON exercise\n",
    "\n",
    "Using data in file 'data/world_bank_projects.json' and the techniques demonstrated above,\n",
    "1. Find the 10 countries with most projects\n",
    "2. Find the top 10 major project themes (using column 'mjtheme_namecode')\n",
    "3. In 2. above you will notice that some entries have only the code and the name is missing. Create a dataframe with the missing names filled in."
   ]
  },
  {
   "cell_type": "markdown",
   "metadata": {},
   "source": [
    "### Solution to part 1: Find 10 Countries with Most Projects"
   ]
  },
  {
   "cell_type": "code",
   "execution_count": 36,
   "metadata": {},
   "outputs": [
    {
     "data": {
      "text/html": [
       "<div>\n",
       "<style scoped>\n",
       "    .dataframe tbody tr th:only-of-type {\n",
       "        vertical-align: middle;\n",
       "    }\n",
       "\n",
       "    .dataframe tbody tr th {\n",
       "        vertical-align: top;\n",
       "    }\n",
       "\n",
       "    .dataframe thead th {\n",
       "        text-align: right;\n",
       "    }\n",
       "</style>\n",
       "<table border=\"1\" class=\"dataframe\">\n",
       "  <thead>\n",
       "    <tr style=\"text-align: right;\">\n",
       "      <th></th>\n",
       "      <th>_id</th>\n",
       "      <th>approvalfy</th>\n",
       "      <th>board_approval_month</th>\n",
       "      <th>boardapprovaldate</th>\n",
       "      <th>borrower</th>\n",
       "      <th>closingdate</th>\n",
       "      <th>country_namecode</th>\n",
       "      <th>countrycode</th>\n",
       "      <th>countryname</th>\n",
       "      <th>countryshortname</th>\n",
       "      <th>...</th>\n",
       "      <th>sectorcode</th>\n",
       "      <th>source</th>\n",
       "      <th>status</th>\n",
       "      <th>supplementprojectflg</th>\n",
       "      <th>theme1</th>\n",
       "      <th>theme_namecode</th>\n",
       "      <th>themecode</th>\n",
       "      <th>totalamt</th>\n",
       "      <th>totalcommamt</th>\n",
       "      <th>url</th>\n",
       "    </tr>\n",
       "  </thead>\n",
       "  <tbody>\n",
       "    <tr>\n",
       "      <th>495</th>\n",
       "      <td>{'$oid': '52b213b38594d8a2be17c96f'}</td>\n",
       "      <td>2013</td>\n",
       "      <td>August</td>\n",
       "      <td>2012-08-10T00:00:00Z</td>\n",
       "      <td>THE COMPETITIVENESS COMPANY</td>\n",
       "      <td>2013-08-31T00:00:00Z</td>\n",
       "      <td>Jamaica!$!JM</td>\n",
       "      <td>JM</td>\n",
       "      <td>Jamaica</td>\n",
       "      <td>Jamaica</td>\n",
       "      <td>...</td>\n",
       "      <td>EV,AZ</td>\n",
       "      <td>IBRD</td>\n",
       "      <td>Closed</td>\n",
       "      <td>N</td>\n",
       "      <td>{'Percent': 50, 'Name': 'Regulation and compet...</td>\n",
       "      <td>[{'code': '40', 'name': 'Regulation and compet...</td>\n",
       "      <td>62,40</td>\n",
       "      <td>0</td>\n",
       "      <td>50000</td>\n",
       "      <td>http://www.worldbank.org/projects/P127299/tech...</td>\n",
       "    </tr>\n",
       "    <tr>\n",
       "      <th>496</th>\n",
       "      <td>{'$oid': '52b213b38594d8a2be17c970'}</td>\n",
       "      <td>2013</td>\n",
       "      <td>August</td>\n",
       "      <td>2012-08-09T00:00:00Z</td>\n",
       "      <td>LAO PEOPLES DEMOCRATIC REPUBLIC</td>\n",
       "      <td>2012-12-31T00:00:00Z</td>\n",
       "      <td>Lao People's Democratic Republic!$!LA</td>\n",
       "      <td>LA</td>\n",
       "      <td>Lao People's Democratic Republic</td>\n",
       "      <td>Lao People's Democratic Republic</td>\n",
       "      <td>...</td>\n",
       "      <td>YZ,JA,EZ,FZ,BC</td>\n",
       "      <td>IBRD</td>\n",
       "      <td>Closed</td>\n",
       "      <td>N</td>\n",
       "      <td>{'Percent': 14, 'Name': 'Child health'}</td>\n",
       "      <td>[{'code': '63', 'name': 'Child health'}, {'cod...</td>\n",
       "      <td>65,27,49,63</td>\n",
       "      <td>20000000</td>\n",
       "      <td>20000000</td>\n",
       "      <td>http://www.worldbank.org/projects/P125298/lao-...</td>\n",
       "    </tr>\n",
       "    <tr>\n",
       "      <th>497</th>\n",
       "      <td>{'$oid': '52b213b38594d8a2be17c971'}</td>\n",
       "      <td>2013</td>\n",
       "      <td>August</td>\n",
       "      <td>2012-08-03T00:00:00Z</td>\n",
       "      <td>GOVERNMENT OF THE REPUBLIC OF GUINEA</td>\n",
       "      <td>2014-12-31T00:00:00Z</td>\n",
       "      <td>Republic of Guinea!$!GN</td>\n",
       "      <td>GN</td>\n",
       "      <td>Republic of Guinea</td>\n",
       "      <td>Guinea</td>\n",
       "      <td>...</td>\n",
       "      <td>AB,AH,AI</td>\n",
       "      <td>IBRD</td>\n",
       "      <td>Active</td>\n",
       "      <td>N</td>\n",
       "      <td>{'Percent': 100, 'Name': 'Global food crisis r...</td>\n",
       "      <td>[{'code': '91', 'name': 'Global food crisis re...</td>\n",
       "      <td>91</td>\n",
       "      <td>0</td>\n",
       "      <td>20000000</td>\n",
       "      <td>http://www.worldbank.org/projects/P128309/seco...</td>\n",
       "    </tr>\n",
       "    <tr>\n",
       "      <th>498</th>\n",
       "      <td>{'$oid': '52b213b38594d8a2be17c972'}</td>\n",
       "      <td>2013</td>\n",
       "      <td>August</td>\n",
       "      <td>2012-08-02T00:00:00Z</td>\n",
       "      <td>REPUBLIC OF INDONESIA</td>\n",
       "      <td>2017-09-30T00:00:00Z</td>\n",
       "      <td>Republic of Indonesia!$!ID</td>\n",
       "      <td>ID</td>\n",
       "      <td>Republic of Indonesia</td>\n",
       "      <td>Indonesia</td>\n",
       "      <td>...</td>\n",
       "      <td>YA,BL,AB</td>\n",
       "      <td>IBRD</td>\n",
       "      <td>Active</td>\n",
       "      <td>N</td>\n",
       "      <td>{'Percent': 85, 'Name': 'Rural services and in...</td>\n",
       "      <td>[{'code': '78', 'name': 'Rural services and in...</td>\n",
       "      <td>77,91,78</td>\n",
       "      <td>80000000</td>\n",
       "      <td>80000000</td>\n",
       "      <td>http://www.worldbank.org/projects/P117243/sust...</td>\n",
       "    </tr>\n",
       "    <tr>\n",
       "      <th>499</th>\n",
       "      <td>{'$oid': '52b213b38594d8a2be17c973'}</td>\n",
       "      <td>2013</td>\n",
       "      <td>August</td>\n",
       "      <td>2012-08-02T00:00:00Z</td>\n",
       "      <td>GOVERMENT OF KENYA</td>\n",
       "      <td>2018-12-31T00:00:00Z</td>\n",
       "      <td>Republic of Kenya!$!KE</td>\n",
       "      <td>KE</td>\n",
       "      <td>Republic of Kenya</td>\n",
       "      <td>Kenya</td>\n",
       "      <td>...</td>\n",
       "      <td>BV,TC</td>\n",
       "      <td>IBRD</td>\n",
       "      <td>Active</td>\n",
       "      <td>N</td>\n",
       "      <td>{'Percent': 1, 'Name': 'Municipal governance a...</td>\n",
       "      <td>[{'code': '73', 'name': 'Municipal governance ...</td>\n",
       "      <td>39,49,88,73</td>\n",
       "      <td>300000000</td>\n",
       "      <td>300000000</td>\n",
       "      <td>http://www.worldbank.org/projects/P126321/keny...</td>\n",
       "    </tr>\n",
       "  </tbody>\n",
       "</table>\n",
       "<p>5 rows × 50 columns</p>\n",
       "</div>"
      ],
      "text/plain": [
       "                                      _id  approvalfy board_approval_month  \\\n",
       "495  {'$oid': '52b213b38594d8a2be17c96f'}        2013               August   \n",
       "496  {'$oid': '52b213b38594d8a2be17c970'}        2013               August   \n",
       "497  {'$oid': '52b213b38594d8a2be17c971'}        2013               August   \n",
       "498  {'$oid': '52b213b38594d8a2be17c972'}        2013               August   \n",
       "499  {'$oid': '52b213b38594d8a2be17c973'}        2013               August   \n",
       "\n",
       "        boardapprovaldate                              borrower  \\\n",
       "495  2012-08-10T00:00:00Z           THE COMPETITIVENESS COMPANY   \n",
       "496  2012-08-09T00:00:00Z       LAO PEOPLES DEMOCRATIC REPUBLIC   \n",
       "497  2012-08-03T00:00:00Z  GOVERNMENT OF THE REPUBLIC OF GUINEA   \n",
       "498  2012-08-02T00:00:00Z                 REPUBLIC OF INDONESIA   \n",
       "499  2012-08-02T00:00:00Z                    GOVERMENT OF KENYA   \n",
       "\n",
       "              closingdate                       country_namecode countrycode  \\\n",
       "495  2013-08-31T00:00:00Z                           Jamaica!$!JM          JM   \n",
       "496  2012-12-31T00:00:00Z  Lao People's Democratic Republic!$!LA          LA   \n",
       "497  2014-12-31T00:00:00Z                Republic of Guinea!$!GN          GN   \n",
       "498  2017-09-30T00:00:00Z             Republic of Indonesia!$!ID          ID   \n",
       "499  2018-12-31T00:00:00Z                 Republic of Kenya!$!KE          KE   \n",
       "\n",
       "                          countryname                  countryshortname  \\\n",
       "495                           Jamaica                           Jamaica   \n",
       "496  Lao People's Democratic Republic  Lao People's Democratic Republic   \n",
       "497                Republic of Guinea                            Guinea   \n",
       "498             Republic of Indonesia                         Indonesia   \n",
       "499                 Republic of Kenya                             Kenya   \n",
       "\n",
       "                           ...                              sectorcode source  \\\n",
       "495                        ...                                   EV,AZ   IBRD   \n",
       "496                        ...                          YZ,JA,EZ,FZ,BC   IBRD   \n",
       "497                        ...                                AB,AH,AI   IBRD   \n",
       "498                        ...                                YA,BL,AB   IBRD   \n",
       "499                        ...                                   BV,TC   IBRD   \n",
       "\n",
       "     status  supplementprojectflg  \\\n",
       "495  Closed                     N   \n",
       "496  Closed                     N   \n",
       "497  Active                     N   \n",
       "498  Active                     N   \n",
       "499  Active                     N   \n",
       "\n",
       "                                                theme1  \\\n",
       "495  {'Percent': 50, 'Name': 'Regulation and compet...   \n",
       "496            {'Percent': 14, 'Name': 'Child health'}   \n",
       "497  {'Percent': 100, 'Name': 'Global food crisis r...   \n",
       "498  {'Percent': 85, 'Name': 'Rural services and in...   \n",
       "499  {'Percent': 1, 'Name': 'Municipal governance a...   \n",
       "\n",
       "                                        theme_namecode    themecode  \\\n",
       "495  [{'code': '40', 'name': 'Regulation and compet...        62,40   \n",
       "496  [{'code': '63', 'name': 'Child health'}, {'cod...  65,27,49,63   \n",
       "497  [{'code': '91', 'name': 'Global food crisis re...           91   \n",
       "498  [{'code': '78', 'name': 'Rural services and in...     77,91,78   \n",
       "499  [{'code': '73', 'name': 'Municipal governance ...  39,49,88,73   \n",
       "\n",
       "      totalamt totalcommamt                                                url  \n",
       "495          0        50000  http://www.worldbank.org/projects/P127299/tech...  \n",
       "496   20000000     20000000  http://www.worldbank.org/projects/P125298/lao-...  \n",
       "497          0     20000000  http://www.worldbank.org/projects/P128309/seco...  \n",
       "498   80000000     80000000  http://www.worldbank.org/projects/P117243/sust...  \n",
       "499  300000000    300000000  http://www.worldbank.org/projects/P126321/keny...  \n",
       "\n",
       "[5 rows x 50 columns]"
      ]
     },
     "execution_count": 36,
     "metadata": {},
     "output_type": "execute_result"
    }
   ],
   "source": [
    "# load json file as Pandas dataframe\n",
    "Global_Projects_json_df = pd.read_json('data/world_bank_projects.json')\n",
    "# examine data tail\n",
    "Global_Projects_json_df.tail()"
   ]
  },
  {
   "cell_type": "code",
   "execution_count": 37,
   "metadata": {},
   "outputs": [
    {
     "data": {
      "text/plain": [
       "(500, 50)"
      ]
     },
     "execution_count": 37,
     "metadata": {},
     "output_type": "execute_result"
    }
   ],
   "source": [
    "# examine table size\n",
    "Global_Projects_json_df.shape"
   ]
  },
  {
   "cell_type": "code",
   "execution_count": 38,
   "metadata": {},
   "outputs": [
    {
     "name": "stdout",
     "output_type": "stream",
     "text": [
      "Index(['_id', 'approvalfy', 'board_approval_month', 'boardapprovaldate',\n",
      "       'borrower', 'closingdate', 'country_namecode', 'countrycode',\n",
      "       'countryname', 'countryshortname', 'docty', 'envassesmentcategorycode',\n",
      "       'grantamt', 'ibrdcommamt', 'id', 'idacommamt', 'impagency',\n",
      "       'lendinginstr', 'lendinginstrtype', 'lendprojectcost',\n",
      "       'majorsector_percent', 'mjsector_namecode', 'mjtheme',\n",
      "       'mjtheme_namecode', 'mjthemecode', 'prodline', 'prodlinetext',\n",
      "       'productlinetype', 'project_abstract', 'project_name', 'projectdocs',\n",
      "       'projectfinancialtype', 'projectstatusdisplay', 'regionname', 'sector',\n",
      "       'sector1', 'sector2', 'sector3', 'sector4', 'sector_namecode',\n",
      "       'sectorcode', 'source', 'status', 'supplementprojectflg', 'theme1',\n",
      "       'theme_namecode', 'themecode', 'totalamt', 'totalcommamt', 'url'],\n",
      "      dtype='object')\n"
     ]
    }
   ],
   "source": [
    "# examine 50 column names\n",
    "print(Global_Projects_json_df.columns)"
   ]
  },
  {
   "cell_type": "code",
   "execution_count": 39,
   "metadata": {},
   "outputs": [],
   "source": [
    "# groupby country and count number of occurances based on 'project name' column\n",
    "# sort the list in decending order\n",
    "# save list of top ten countries with most number of projects\n",
    "Projects_TopTen_Countries = Global_Projects_json_df.groupby('countryname')['project_name']\\\n",
    "                    .count().sort_values(ascending=False).head(10)"
   ]
  },
  {
   "cell_type": "markdown",
   "metadata": {},
   "source": [
    "### Top 10 countries with most projects"
   ]
  },
  {
   "cell_type": "code",
   "execution_count": 40,
   "metadata": {},
   "outputs": [
    {
     "name": "stdout",
     "output_type": "stream",
     "text": [
      "countryname\n",
      "People's Republic of China         19\n",
      "Republic of Indonesia              19\n",
      "Socialist Republic of Vietnam      17\n",
      "Republic of India                  16\n",
      "Republic of Yemen                  13\n",
      "Nepal                              12\n",
      "People's Republic of Bangladesh    12\n",
      "Kingdom of Morocco                 12\n",
      "Africa                             11\n",
      "Republic of Mozambique             11\n",
      "Name: project_name, dtype: int64\n"
     ]
    }
   ],
   "source": [
    "print(Projects_TopTen_Countries)"
   ]
  },
  {
   "cell_type": "markdown",
   "metadata": {},
   "source": [
    "### Solution to part 2: Find the top 10 major project themes (using column 'mjtheme_namecode')"
   ]
  },
  {
   "cell_type": "code",
   "execution_count": 41,
   "metadata": {},
   "outputs": [
    {
     "name": "stdout",
     "output_type": "stream",
     "text": [
      "   code                                          name\n",
      "0     8                             Human development\n",
      "1    11                                              \n",
      "2     1                           Economic management\n",
      "3     6         Social protection and risk management\n",
      "4     5                         Trade and integration\n",
      "5     2                      Public sector governance\n",
      "6    11  Environment and natural resources management\n",
      "7     6         Social protection and risk management\n",
      "8     7                   Social dev/gender/inclusion\n",
      "9     7                   Social dev/gender/inclusion\n",
      "10    5                         Trade and integration\n",
      "11    4      Financial and private sector development\n",
      "12    6         Social protection and risk management\n",
      "13    6                                              \n",
      "14    2                      Public sector governance\n",
      "15    4      Financial and private sector development\n",
      "16   11  Environment and natural resources management\n",
      "17    8                                              \n",
      "18   10                             Rural development\n",
      "19    7                                              \n"
     ]
    }
   ],
   "source": [
    "# print(Global_Projects_json_df['mjtheme_namecode'])\n",
    "# Extract project theme from major project list in column 'mjtheme_namecode'\n",
    "# to create a table 'code' and 'name' of project theme\n",
    "projList = []\n",
    "for c_proj in Global_Projects_json_df['mjtheme_namecode']:\n",
    "    for dict_item in c_proj:\n",
    "        projList.append(dict_item.values())     #list(dict_item.values()))\n",
    "MajorProjects = pd.DataFrame(projList, columns=['code','name']).astype(str)\n",
    "print(MajorProjects.head(20)) "
   ]
  },
  {
   "cell_type": "code",
   "execution_count": 42,
   "metadata": {},
   "outputs": [
    {
     "name": "stdout",
     "output_type": "stream",
     "text": [
      "     0                                             1\n",
      "0    1                           Economic management\n",
      "1   11  Environment and natural resources management\n",
      "2    4      Financial and private sector development\n",
      "3    8                             Human development\n",
      "4    2                      Public sector governance\n",
      "5    3                                   Rule of law\n",
      "6   10                             Rural development\n",
      "7    7                   Social dev/gender/inclusion\n",
      "8    6         Social protection and risk management\n",
      "9    5                         Trade and integration\n",
      "10   9                             Urban development\n"
     ]
    }
   ],
   "source": [
    "# no missing values in 'code' column, thus, groupby 'code' and get list of top ten project theme codes\n",
    "CodeCountRank = MajorProjects.groupby('code')['name'].count().sort_values(ascending=False)\n",
    "CodeNameLevels = MajorProjects.groupby('name')['code'].value_counts()\n",
    "\n",
    "LevelRowIndex = 11  # start at index 11 to remove blank names\n",
    "CodeNameIndexLevel = list(CodeNameLevels.index.get_level_values(0)[LevelRowIndex:])\n",
    "CodeIndexLevel = list(CodeNameLevels.index.get_level_values(1)[LevelRowIndex:])     \n",
    "CodeNameLink = pd.DataFrame([CodeIndexLevel, CodeNameIndexLevel]).transpose()\n",
    "print(CodeNameLink)"
   ]
  },
  {
   "cell_type": "code",
   "execution_count": 43,
   "metadata": {},
   "outputs": [],
   "source": [
    "# Rank top tem projects\n",
    "mjthemeTopTenList = []\n",
    "for c_idx in CodeCountRank.index:\n",
    "    boolArray = (CodeNameLink[0] == c_idx).astype(int)\n",
    "    i=0\n",
    "    for x in boolArray:\n",
    "        if x == 1:\n",
    "            break\n",
    "        else:\n",
    "            i =i+1\n",
    "    matchCodeIndex = CodeNameLink[1][i]\n",
    "    mjthemeTopTenList.append([CodeCountRank[c_idx], c_idx, CodeNameLink[1][i]]) "
   ]
  },
  {
   "cell_type": "markdown",
   "metadata": {},
   "source": [
    "### Top 10 Major Project Themes"
   ]
  },
  {
   "cell_type": "code",
   "execution_count": 44,
   "metadata": {},
   "outputs": [
    {
     "name": "stdout",
     "output_type": "stream",
     "text": [
      "    proj count code                                          name\n",
      "0          250   11  Environment and natural resources management\n",
      "1          216   10                             Rural development\n",
      "2          210    8                             Human development\n",
      "3          199    2                      Public sector governance\n",
      "4          168    6         Social protection and risk management\n",
      "5          146    4      Financial and private sector development\n",
      "6          130    7                   Social dev/gender/inclusion\n",
      "7           77    5                         Trade and integration\n",
      "8           50    9                             Urban development\n",
      "9           38    1                           Economic management\n",
      "10          15    3                                   Rule of law\n"
     ]
    }
   ],
   "source": [
    "mjTopProjects = pd.DataFrame(mjthemeTopTenList, columns = ('proj count','code', 'name'))\n",
    "print(mjTopProjects)"
   ]
  },
  {
   "cell_type": "markdown",
   "metadata": {},
   "source": [
    "### Solution to part 3: Create a DataFrame with the Missing Names Filled."
   ]
  },
  {
   "cell_type": "code",
   "execution_count": 45,
   "metadata": {},
   "outputs": [
    {
     "name": "stdout",
     "output_type": "stream",
     "text": [
      "   code                                          name\n",
      "0     8                             Human development\n",
      "1    11                                              \n",
      "2     1                           Economic management\n",
      "3     6         Social protection and risk management\n",
      "4     5                         Trade and integration\n",
      "5     2                      Public sector governance\n",
      "6    11  Environment and natural resources management\n",
      "7     6         Social protection and risk management\n",
      "8     7                   Social dev/gender/inclusion\n",
      "9     7                   Social dev/gender/inclusion\n",
      "10    5                         Trade and integration\n",
      "11    4      Financial and private sector development\n",
      "12    6         Social protection and risk management\n",
      "13    6                                              \n",
      "14    2                      Public sector governance\n",
      "15    4      Financial and private sector development\n",
      "16   11  Environment and natural resources management\n",
      "17    8                                              \n",
      "18   10                             Rural development\n",
      "19    7                                              \n"
     ]
    }
   ],
   "source": [
    "print(MajorProjects.head(20)) "
   ]
  },
  {
   "cell_type": "code",
   "execution_count": 46,
   "metadata": {},
   "outputs": [
    {
     "name": "stdout",
     "output_type": "stream",
     "text": [
      "   code                                          name\n",
      "0     8                             Human development\n",
      "1    11  Environment and natural resources management\n",
      "2     1                           Economic management\n",
      "3     6         Social protection and risk management\n",
      "4     5                         Trade and integration\n",
      "5     2                      Public sector governance\n",
      "6    11  Environment and natural resources management\n",
      "7     6         Social protection and risk management\n",
      "8     7                   Social dev/gender/inclusion\n",
      "9     7                   Social dev/gender/inclusion\n",
      "10    5                         Trade and integration\n",
      "11    4      Financial and private sector development\n",
      "12    6         Social protection and risk management\n",
      "13    6         Social protection and risk management\n",
      "14    2                      Public sector governance\n",
      "15    4      Financial and private sector development\n",
      "16   11  Environment and natural resources management\n",
      "17    8                             Human development\n",
      "18   10                             Rural development\n",
      "19    7                   Social dev/gender/inclusion\n"
     ]
    }
   ],
   "source": [
    "for row in MajorProjects.values:\n",
    "    if row[1] == '':\n",
    "        row[1] = mjTopProjects['name'][mjTopProjects['code'] == row[0]].values[0]\n",
    "print(MajorProjects.head(20))"
   ]
  },
  {
   "cell_type": "code",
   "execution_count": null,
   "metadata": {},
   "outputs": [],
   "source": []
  }
 ],
 "metadata": {
  "kernelspec": {
   "display_name": "Python 3",
   "language": "python",
   "name": "python3"
  },
  "language_info": {
   "codemirror_mode": {
    "name": "ipython",
    "version": 3
   },
   "file_extension": ".py",
   "mimetype": "text/x-python",
   "name": "python",
   "nbconvert_exporter": "python",
   "pygments_lexer": "ipython3",
   "version": "3.6.5"
  }
 },
 "nbformat": 4,
 "nbformat_minor": 1
}
